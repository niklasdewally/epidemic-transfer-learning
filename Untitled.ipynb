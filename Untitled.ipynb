{
 "cells": [
  {
   "cell_type": "code",
   "execution_count": 3,
   "id": "dfbb908c-09ff-4e7c-9014-60dada0ff30f",
   "metadata": {},
   "outputs": [],
   "source": [
    "import gtl"
   ]
  },
  {
   "cell_type": "markdown",
   "id": "a3c17b4a-b34b-4f06-b57e-f54479f636d0",
   "metadata": {},
   "source": [
    "# Airport Experiment Runthrough\n",
    "\n",
    "This notebook runs through the airport experiment as described in the [EGI Paper](https://arxiv.org/abs/2009.05204)."
   ]
  },
  {
   "cell_type": "code",
   "execution_count": null,
   "id": "426cea5e-a9ec-4c4f-8746-ae4a8dbee34c",
   "metadata": {},
   "outputs": [],
   "source": []
  }
 ],
 "metadata": {
  "kernelspec": {
   "display_name": "Python 3 (ipykernel)",
   "language": "python",
   "name": "python3"
  },
  "language_info": {
   "codemirror_mode": {
    "name": "ipython",
    "version": 3
   },
   "file_extension": ".py",
   "mimetype": "text/x-python",
   "name": "python",
   "nbconvert_exporter": "python",
   "pygments_lexer": "ipython3",
   "version": "3.11.5"
  }
 },
 "nbformat": 4,
 "nbformat_minor": 5
}
